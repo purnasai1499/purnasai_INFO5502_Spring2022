{
  "cells": [
    {
      "cell_type": "markdown",
      "metadata": {
        "id": "view-in-github",
        "colab_type": "text"
      },
      "source": [
        "<a href=\"https://colab.research.google.com/github/purnasai1499/purnasai_INFO5502_Spring2022/blob/main/Lab_assignment_02.ipynb\" target=\"_parent\"><img src=\"https://colab.research.google.com/assets/colab-badge.svg\" alt=\"Open In Colab\"/></a>"
      ]
    },
    {
      "cell_type": "markdown",
      "metadata": {
        "id": "Ryk8D1Q4Wsrp"
      },
      "source": [
        "# **The second Lab-assignment (02/04/2022, 50 points in total)**"
      ]
    },
    {
      "cell_type": "markdown",
      "metadata": {
        "id": "90_NR8c5XGWc"
      },
      "source": [
        "# Question 1\n",
        "\n",
        "(5 points). Write a Python program to generate 12 random numbers between 1 and 100. Sort the list of numbers in ascending order and print it out. Sort the list of numbers in descending order and print it out. Calculate the average for the group and print it out."
      ]
    },
    {
      "cell_type": "code",
      "execution_count": null,
      "metadata": {
        "id": "5QX6bJjGWXY9",
        "outputId": "6898dc2c-ba93-465f-d6f5-b296a689e0fb"
      },
      "outputs": [
        {
          "name": "stdout",
          "output_type": "stream",
          "text": [
            "Ascending order of group:  [3, 24, 32, 47, 47, 61, 63, 71, 92, 93, 94, 96]\n",
            "Descending order of group:  [96, 94, 93, 92, 71, 63, 61, 47, 47, 32, 24, 3]\n",
            "average of the group is:  60.25\n"
          ]
        }
      ],
      "source": [
        "# Your code here\n",
        "import random\n",
        "l=[]\n",
        "for i in range(1,13):\n",
        "    x=random.randrange(1,101)\n",
        "    l.append(x)\n",
        "#print(l.sort())\n",
        "l.sort()\n",
        "print(\"Ascending order of group: \",l)\n",
        "l.sort(reverse=True)\n",
        "print(\"Descending order of group: \",l)\n",
        "avg=sum(l)/len(l)\n",
        "print(\"average of the group is: \",round(avg,2))"
      ]
    },
    {
      "cell_type": "markdown",
      "metadata": {
        "id": "1F_PZdH9Sh49"
      },
      "source": [
        "# Question 2\n",
        "(20 points). Write a program that will do the following string formatting tasks:\n",
        "\n",
        "(1) Ask the user to enter two sentences.\n",
        "\n",
        "(2) Make each sentence into a list. Each element in the list should correspond to a word in the sentence. For example, if the sentence is \"Alas! Am I alive? This is my first python program\", the program should print out ['Alas, '!', 'Am', 'I', 'alive, '?', 'This', 'is', 'my', 'first', 'python', 'program'].\n",
        "\n",
        "(3) Compare the two sentences. Print out a list of words that occur in both sentences.\n",
        "\n",
        "(4) Remove any punctuation from the sentence and print it back out. It should remove at least the following characters, but it can remove more: period(“.”), comma (“,”), semicolon (“;”), and colon (“:”)\n",
        "\n",
        "(5) Count the number of vowels in the sentences. Print out each vowel and the number of times it appears in the sentences, such as: a:2, e:1, i:0, etc"
      ]
    },
    {
      "cell_type": "code",
      "execution_count": null,
      "metadata": {
        "id": "Y0oOSlsOS0cq",
        "outputId": "3691a85d-d167-4f3d-cbf1-23f56ccc729e"
      },
      "outputs": [
        {
          "name": "stdout",
          "output_type": "stream",
          "text": [
            "Enter 2 setences: \n",
            "Alas! Am I alive? This is my !!@@ @#$% first python program\n",
            "Hurrah! I am alive. This is my second python program \n",
            "list:  ['Alas! Am I alive? This is my !!@@ @#$% first python program', 'Hurrah! I am alive. This is my second python program ']\n",
            "['Alas', '!', 'Am', 'I', 'alive', '?', 'This', 'is', 'my', '!!@@', '@#$%', 'first', 'python', 'program', 'Hurrah', '!', 'I', 'am', 'alive', '.', 'This', 'is', 'my', 'second', 'python', 'program']\n"
          ]
        }
      ],
      "source": [
        "import re\n",
        "from string import punctuation\n",
        "A=[]\n",
        "print(\"Enter 2 setences: \")\n",
        "for i in range(0,2):\n",
        "    l=str(input())\n",
        "    A.append(l)\n",
        "    \n",
        "print(\"list: \",A)\n",
        "s=[]\n",
        "for i in range(0,2):\n",
        "    s.append(re.split(r'(\\W+)',A[i]))\n",
        "\n",
        "\n",
        "f=[]\n",
        "for i in s:\n",
        "    f+=i\n",
        "    \n",
        "#f=list(filter(None,f))\n",
        "f =' '.join(f).split()\n",
        "print(f)"
      ]
    },
    {
      "cell_type": "code",
      "execution_count": null,
      "metadata": {
        "id": "NRtMuV272fnp"
      },
      "outputs": [],
      "source": [
        "import re\n",
        "from string import punctuation\n",
        "r=[]\n",
        "j=\"two\"\n",
        "for i in range(0,2):\n",
        "    if j\n",
        "    l=str(input())\n",
        "    r.append(l)\n",
        "\n",
        "\n",
        "\n",
        "\n",
        "\n",
        "\n"
      ]
    },
    {
      "cell_type": "markdown",
      "metadata": {
        "id": "CmFoI4jDS9nx"
      },
      "source": [
        "# Question 3 \n",
        "\n",
        "(5 points). The formula that describes the volume V of a sphere with radius r is the following:\n",
        "\n",
        "$ V=\\frac{4}{3}\\ast\\ \\pi\\ast\\ r^3 $\n",
        "\n",
        "Write a program to calculate the value of V when r is in the range of 1–10. Output the result in the following format:\n",
        "\n",
        "\tr\tV\n",
        "\t1\t…\n",
        "\t2\t…\n",
        "\t3\t…\n"
      ]
    },
    {
      "cell_type": "code",
      "execution_count": null,
      "metadata": {
        "id": "pEyqeioAT95b",
        "outputId": "264dda3b-bf13-4def-ed36-d672ebb32841"
      },
      "outputs": [
        {
          "name": "stdout",
          "output_type": "stream",
          "text": [
            "r V\n",
            "1 4.1866666666666665\n",
            "2 33.49333333333333\n",
            "3 113.03999999999999\n",
            "4 267.94666666666666\n",
            "5 523.3333333333334\n",
            "6 904.3199999999999\n",
            "7 1436.0266666666666\n",
            "8 2143.5733333333333\n",
            "9 3052.08\n",
            "10 4186.666666666667\n"
          ]
        }
      ],
      "source": [
        "import math\n",
        "\n",
        "print('r','V')\n",
        "for r in range(1,11):\n",
        "    V=(4/3)*3.14*(r)**3\n",
        "    print(r,V)\n",
        "\n"
      ]
    },
    {
      "cell_type": "markdown",
      "metadata": {
        "id": "z3tBE7E-Xn5X"
      },
      "source": [
        "# Question 4\n",
        "\n",
        "(20 points). In the field of Data Science, data is often formatted as a comma-delimited (CSV) file, where each line in a file corresponds to a field's value. Refer to Chapter 9 (p. 106) for more information on comma-delimited files. To answer this question, you will need to download the file [lab_assignment_02_denton_housing.csv](https://raw.githubusercontent.com/unt-iialab/info5502-spring2022/main/datasets/lab_assignment_02_denton_housing.csv) included with this assignment. The file [lab_assignment_02_denton_housing.csv](https://raw.githubusercontent.com/unt-iialab/info5502-spring2022/main/datasets/lab_assignment_02_denton_housing.csv) contains statistics about housing in the city of Denton from 2008 to 2014. Write a program to implement the following questions.\n",
        "\n",
        "(1) (10 pts) Calculate the difference in the number of Occupied Housing Units from year to year and print it. The difference must be calculated for the consecutive years such as 2008-2009, 2009-2010 etc. Finally, print the values in the ascending order.\n",
        "\n",
        "(2) (10 pts) For all the years, calculate the percentage of housing units which are vacant an occupied. Print the results in the following format:\n",
        "\n",
        "Year Vacant Housing Units Occupied Housing Units\n",
        "\n",
        "    2008  30%   70%                          \n",
        "\t2009 ----- -----\n",
        "\t2010 ----- -----\n",
        "    2011 ----- -----\n",
        "\t2012 ----- -----\n",
        "    2013 ----- -----\n",
        "\t2014 ----- -----\n",
        "  \n",
        "  \n",
        "\n",
        "(3) (10 pts) Calculate and print the valued and years in which the highest number of housing units were vacant and occupied. Print the results in the following format:  \n",
        "\n",
        "                              Year\tValue\n",
        "\tVacant Housing Units\t  -----   -----\n",
        "\tOccupied Housing Units\t-----   -----\n",
        "\n",
        "(4) (10 pts) Calculate the harmonic mean of the total housing units and print it out. You can find the information about harmonic mean here: https://ncalculators.com/statistics/harmonic-mean-calculator.htm"
      ]
    },
    {
      "cell_type": "code",
      "execution_count": null,
      "metadata": {
        "id": "lqGYuHBhcsRH",
        "outputId": "3a42d4df-3481-47de-dd8d-07c9325086d8"
      },
      "outputs": [
        {
          "name": "stdout",
          "output_type": "stream",
          "text": [
            "2011-2010  303.0\n",
            "2009-2008  795.0\n",
            "2012-2011  1404.0\n",
            "2013-2012  1565.0\n",
            "2014-2013  2622.0\n",
            "2010-2009  5091.0\n"
          ]
        },
        {
          "name": "stderr",
          "output_type": "stream",
          "text": [
            "C:\\Users\\lalit\\AppData\\Local\\Temp\\ipykernel_1860\\2028552557.py:7: SettingWithCopyWarning: \n",
            "A value is trying to be set on a copy of a slice from a DataFrame\n",
            "\n",
            "See the caveats in the documentation: https://pandas.pydata.org/pandas-docs/stable/user_guide/indexing.html#returning-a-view-versus-a-copy\n",
            "  df1.sort_values(by=['year'],ascending=True,inplace=True)\n",
            "C:\\Users\\lalit\\AppData\\Local\\Temp\\ipykernel_1860\\2028552557.py:8: SettingWithCopyWarning: \n",
            "A value is trying to be set on a copy of a slice from a DataFrame.\n",
            "Try using .loc[row_indexer,col_indexer] = value instead\n",
            "\n",
            "See the caveats in the documentation: https://pandas.pydata.org/pandas-docs/stable/user_guide/indexing.html#returning-a-view-versus-a-copy\n",
            "  df1[\"value_DIFF\"]=abs(df1[\"value\"].diff())\n"
          ]
        }
      ],
      "source": [
        "import pandas as pd\n",
        "import numpy as np\n",
        "\n",
        "df=pd.read_csv(\"https://raw.githubusercontent.com/unt-iialab/info5502-spring2022/main/datasets/lab_assignment_02_denton_housing.csv\")\n",
        "\n",
        "df1=df[df[\"title_field\"]=='Occupied Housing Units']\n",
        "df1.sort_values(by=['year'],ascending=True,inplace=True)\n",
        "df1[\"value_DIFF\"]=abs(df1[\"value\"].diff())\n",
        "df1=df1.dropna()\n",
        "df1=df1.reset_index(drop=True)\n",
        "df1.sort_values(by='value_DIFF',ascending=True,inplace=True)\n",
        "for ind in df1.index:\n",
        "        print(str(df1['year'][ind])+'-'+str(df1['year'][ind]-1),'',df1['value_DIFF'][ind])\n",
        "\n",
        "#df1"
      ]
    },
    {
      "cell_type": "code",
      "execution_count": null,
      "metadata": {
        "id": "3uAjXtDZ2fn_",
        "outputId": "72a0c515-ebca-4bd0-8e43-5fbc5b67de1b"
      },
      "outputs": [
        {
          "name": "stdout",
          "output_type": "stream",
          "text": [
            "2008 11%  89%\n",
            "2009 9%  91%\n",
            "2010 8%  92%\n",
            "2011 9%  91%\n",
            "2012 7%  93%\n",
            "2013 9%  91%\n",
            "2014 6%  94%\n"
          ]
        }
      ],
      "source": [
        "import math\n",
        "Value1=0.0\n",
        "Total=0.0\n",
        "df=df.reset_index(drop=True)\n",
        "for year in range(2008,2015):\n",
        "    Value1=df[(df['year'] == year) & (df['title_field'] == 'Vacant Housing Units')]['value'].values[0]\n",
        "    Value2=df[(df['year'] == year) & (df['title_field'] == 'Occupied Housing Units')]['value'].values[0]\n",
        "    Total=df[(df['year'] == year) & (df['title_field'] == 'Total Housing Units')]['value'].values[0] \n",
        "    Vac_Percentage=round((Value1/Total)*100)\n",
        "    Occ_Percentage=round((Value2/Total)*100)\n",
        "    print(year,str(Vac_Percentage)+'%','',str(Occ_Percentage)+'%')"
      ]
    },
    {
      "cell_type": "code",
      "execution_count": null,
      "metadata": {
        "id": "nzlvx4Ep2foB",
        "outputId": "bcdc64e2-e1c4-4805-a2fa-f0c5312dce24"
      },
      "outputs": [
        {
          "name": "stdout",
          "output_type": "stream",
          "text": [
            "                     Year Value\n",
            "Vacant Housing Units 2014 4483\n",
            "Occupied Housing Units 2014 46295\n"
          ]
        }
      ],
      "source": [
        "print('                    ','Year','Value')\n",
        "for i in ('Vacant Housing Units','Occupied Housing Units'):\n",
        "    value3=df[(df['title_field'] == i)]['value'].max()\n",
        "    value4=df[(df['title_field'] == i)]['year'].max()\n",
        "    print(i,value4,value3)"
      ]
    },
    {
      "cell_type": "code",
      "execution_count": null,
      "metadata": {
        "id": "o09S3uV82foE",
        "outputId": "88f4245c-be49-4303-fee4-4a9ea3dc0466"
      },
      "outputs": [
        {
          "name": "stdout",
          "output_type": "stream",
          "text": [
            "44398.28543969185\n"
          ]
        }
      ],
      "source": [
        "#import statistics\n",
        "print(statistics.harmonic_mean(df[(df['title_field'] == 'Total Housing Units')]['value']))"
      ]
    },
    {
      "cell_type": "code",
      "execution_count": null,
      "metadata": {
        "id": "XEDi7ac42foH"
      },
      "outputs": [],
      "source": [
        ""
      ]
    }
  ],
  "metadata": {
    "colab": {
      "collapsed_sections": [],
      "name": "Lab_assignment_02.ipynb",
      "provenance": [],
      "include_colab_link": true
    },
    "kernelspec": {
      "display_name": "Python 3",
      "language": "python",
      "name": "python3"
    },
    "language_info": {
      "codemirror_mode": {
        "name": "ipython",
        "version": 3
      },
      "file_extension": ".py",
      "mimetype": "text/x-python",
      "name": "python",
      "nbconvert_exporter": "python",
      "pygments_lexer": "ipython3",
      "version": "3.8.8"
    }
  },
  "nbformat": 4,
  "nbformat_minor": 0
}