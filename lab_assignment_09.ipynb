{
  "cells": [
    {
      "cell_type": "markdown",
      "metadata": {
        "id": "view-in-github",
        "colab_type": "text"
      },
      "source": [
        "<a href=\"https://colab.research.google.com/github/purnasai1499/purnasai_INFO5502_Spring2022/blob/main/lab_assignment_09.ipynb\" target=\"_parent\"><img src=\"https://colab.research.google.com/assets/colab-badge.svg\" alt=\"Open In Colab\"/></a>"
      ]
    },
    {
      "cell_type": "markdown",
      "metadata": {
        "id": "3Z6CmLkd9Glm"
      },
      "source": [
        "## The ninth Lab-assignment (04/14/2022, 50 points in total)"
      ]
    },
    {
      "cell_type": "markdown",
      "metadata": {
        "id": "2FCFBxII9Gln"
      },
      "source": [
        "The purpose of this assignment is to practice different Hypothesis Testing."
      ]
    },
    {
      "cell_type": "markdown",
      "metadata": {
        "id": "m3KZGyT29Gln"
      },
      "source": [
        "### Question 1 (15 points) \n",
        "\n",
        "During the 1980s, the general consensus is that about 5% of the nation’s children had autism. Some claimed that increases certain chemicals in the environment has led to an increase in autism. \n",
        "\n",
        "(1) Write an appropriate hypothesis test for this situation (5 points).  \n",
        "\n",
        "(2) Give an appropriate test for this hypothesis, stating what are the necessary conditions for performing the test (5 points). \n",
        "\n",
        "(3) A recent study examined 384 children and found that 46 showed signs of autism. Perform a test of the hypothesis and state the p-value (5 points). "
      ]
    },
    {
      "cell_type": "code",
      "execution_count": null,
      "metadata": {
        "id": "7pms7THx9Glo"
      },
      "outputs": [],
      "source": [
        "\n",
        "# You answer here\n",
        "#A: There are 5% of children who affected to Autism.\n",
        "#B: There are 5% of children who does not affected to Autism.\n",
        "\n",
        "#A 0.05 solution is achieved using the appropriate hypothesis test.\n"
      ]
    },
    {
      "cell_type": "code",
      "execution_count": null,
      "metadata": {
        "colab": {
          "base_uri": "https://localhost:8080/"
        },
        "id": "d3QVCa2h9Glp",
        "outputId": "8993c05f-f4f4-42c4-f5cd-a05054c8e730"
      },
      "outputs": [
        {
          "output_type": "stream",
          "name": "stdout",
          "text": [
            "Requirement already satisfied: statsmodels in /usr/local/lib/python3.7/dist-packages (0.10.2)\n",
            "Requirement already satisfied: pandas>=0.19 in /usr/local/lib/python3.7/dist-packages (from statsmodels) (1.3.5)\n",
            "Requirement already satisfied: patsy>=0.4.0 in /usr/local/lib/python3.7/dist-packages (from statsmodels) (0.5.2)\n",
            "Requirement already satisfied: scipy>=0.18 in /usr/local/lib/python3.7/dist-packages (from statsmodels) (1.4.1)\n",
            "Requirement already satisfied: numpy>=1.11 in /usr/local/lib/python3.7/dist-packages (from statsmodels) (1.21.6)\n",
            "Requirement already satisfied: pytz>=2017.3 in /usr/local/lib/python3.7/dist-packages (from pandas>=0.19->statsmodels) (2022.1)\n",
            "Requirement already satisfied: python-dateutil>=2.7.3 in /usr/local/lib/python3.7/dist-packages (from pandas>=0.19->statsmodels) (2.8.2)\n",
            "Requirement already satisfied: six in /usr/local/lib/python3.7/dist-packages (from patsy>=0.4.0->statsmodels) (1.15.0)\n"
          ]
        }
      ],
      "source": [
        "# your code here\n",
        "\n",
        "!pip install statsmodels\n"
      ]
    },
    {
      "cell_type": "code",
      "source": [
        "# your code here\n",
        "from statsmodels.stats.proportion import proportions_ztest\n",
        "prob0 = 0.05\n",
        "numr =384\n",
        "z = 46\n",
        "\n",
        "proportions_ztest(count=5, nobs = numr, value=0.46)"
      ],
      "metadata": {
        "colab": {
          "base_uri": "https://localhost:8080/"
        },
        "id": "0lpK86pwlie2",
        "outputId": "3a325567-344a-498b-9fb4-11399a38b12e"
      },
      "execution_count": null,
      "outputs": [
        {
          "output_type": "execute_result",
          "data": {
            "text/plain": [
              "(-77.2644132497523, 0.0)"
            ]
          },
          "metadata": {},
          "execution_count": 39
        }
      ]
    },
    {
      "cell_type": "markdown",
      "metadata": {
        "id": "qnE3DZtY9Glp"
      },
      "source": [
        "### Question 2 (15 points) \n",
        "\n",
        "National data in the 1960s showed that about 44% of the adult population had never smoked. \n",
        "\n",
        "(1) State a null and alternative hypothesis to test that the fraction of the 1995 population of adults that had never smoked had increased (5 points).  \n",
        "\n",
        "(2) A national random sample of 891 adults were interviewed and 463 stated that they had never smoked. Perform a z-test of the hypothesis and give an approriate p-value (5 points). \n",
        "\n",
        "(3) Create a 98% confidence interval for the proportion of adults who had never been smokers (5 points). "
      ]
    },
    {
      "cell_type": "code",
      "execution_count": null,
      "metadata": {
        "id": "1FHERwZW9Glq"
      },
      "outputs": [],
      "source": [
        "# You answer here\n",
        "#A: There's been a growth in the number of people who may have never smoked.\n",
        "#B: People that had never smoked had reduced in number."
      ]
    },
    {
      "cell_type": "code",
      "execution_count": null,
      "metadata": {
        "colab": {
          "base_uri": "https://localhost:8080/"
        },
        "id": "GzosDGxP9Glq",
        "outputId": "c14b5956-0a0f-4f81-92e4-e5ce6cfea4ad"
      },
      "outputs": [
        {
          "output_type": "execute_result",
          "data": {
            "text/plain": [
              "(-631.062712892761, 0.0)"
            ]
          },
          "metadata": {},
          "execution_count": 41
        }
      ],
      "source": [
        "# your code here\n",
        "\n",
        "proportions_ztest(count=44, nobs=891, value=4.63)"
      ]
    },
    {
      "cell_type": "code",
      "source": [
        "import scipy.stats as st\n",
        "\n",
        "st.t.interval(alpha=0.95, df=890,loc=44,scale=4.63)"
      ],
      "metadata": {
        "colab": {
          "base_uri": "https://localhost:8080/"
        },
        "id": "Jq2MjGymmnu3",
        "outputId": "c35412e4-4bbd-4aa5-d347-b781d0b6e500"
      },
      "execution_count": null,
      "outputs": [
        {
          "output_type": "execute_result",
          "data": {
            "text/plain": [
              "(34.91300909530795, 53.08699090469205)"
            ]
          },
          "metadata": {},
          "execution_count": 43
        }
      ]
    },
    {
      "cell_type": "markdown",
      "metadata": {
        "id": "OxlgzEpH9Glq"
      },
      "source": [
        "### Question 3 (15 points) \n",
        "In this problem,we will examine the sugar content of several national brands of cereals, here measured as a percentage of weight.\n",
        "\n",
        "\n",
        "(1) Give a summary of these two datasets (5 points). \n",
        "\n",
        "(2) Create side-by-side boxplots and interpret what you see (5 points). \n",
        "\n",
        "(3) Use python to create a 95% confidence interval for the difference in mean sugar content and explain your result (5 points). "
      ]
    },
    {
      "cell_type": "code",
      "execution_count": null,
      "metadata": {
        "colab": {
          "base_uri": "https://localhost:8080/",
          "height": 1000
        },
        "id": "LgnlSm2L9Glr",
        "outputId": "2209eae2-bddd-48dd-e95b-29b3eab6c6a6"
      },
      "outputs": [
        {
          "output_type": "stream",
          "name": "stdout",
          "text": [
            "Children\n",
            "-*-*-*-*-\n",
            "Summary Statistics\n",
            "-*-*-*-*-\n",
            "Median              : 45.9000\n",
            "Mean                : 46.8000\n",
            "Mode                : [44.]\n",
            "Standard Deviation  : 6.2472\n",
            "Variance            : 39.0274\n",
            "\n",
            "Adults\n",
            "-*-*-*-*-\n",
            "Summary Statistics\n",
            "-*-*-*-*-\n",
            "Median              : 8.1000\n",
            "Mean                : 10.1690\n",
            "Mode                : [4.1]\n",
            "Standard Deviation  : 7.3457\n",
            "Variance            : 53.9587\n",
            "\n",
            "\n",
            " The average deviation is higher for adults when compared to children, indicating that the mean is higher for this when compared to adults, according to the statistics summary.\n",
            "Also, when compared to adults, the box plot for children is small, indicating that there is a significant difference in sugar content between adults and children.\n",
            "-----------------------\n",
            "95% Confidence Interval for the difference in mean sugar content\n",
            "-----------------------\n",
            "Child:  (34.555734866088045, 59.04426513391196)\n",
            "Adult   :  (-4.228259682928753, 24.56619071741151)\n",
            "\n",
            "   95% confidence interval\n",
            "1) Sugar content for children with a mean ranges from 35.56 to 59.04.\n",
            "2) Adults' sugar content ranges between -4.23 and 24.57 \n"
          ]
        },
        {
          "output_type": "stream",
          "name": "stderr",
          "text": [
            "/usr/local/lib/python3.7/dist-packages/matplotlib/cbook/__init__.py:1376: VisibleDeprecationWarning: Creating an ndarray from ragged nested sequences (which is a list-or-tuple of lists-or-tuples-or ndarrays with different lengths or shapes) is deprecated. If you meant to do this, you must specify 'dtype=object' when creating the ndarray.\n",
            "  X = np.atleast_1d(X.T if isinstance(X, np.ndarray) else np.asarray(X))\n"
          ]
        },
        {
          "output_type": "display_data",
          "data": {
            "text/plain": [
              "<Figure size 1008x576 with 1 Axes>"
            ],
            "image/png": "[encoded data removed]"
          },
          "metadata": {
            "needs_background": "light"
          }
        }
      ],
      "source": [
        "# You answer here\n",
        "\n",
        "\n",
        "import numpy as np\n",
        "import matplotlib.pyplot as plt\n",
        "from scipy import stats\n",
        "\n",
        "children = np.array([40.3, 55.0, 45.7, 43.3, 50.3, 45.9, 53.5, 43.0, 44.2, 44.0, 33.6, 55.1, 48.8, \n",
        "                     50.4, 37.8, 60.3, 46.6, 47.4, 44.0])\n",
        "adults = np.array([20.0, 30.2, 2.2, 7.5, 4.4, 22.2, 16.6, 14.5, 21.4, 3.3, 10.0, 1.0, 4.4, 1.3, 8.1, \n",
        "                  6.6, 7.8, 10.6, 10.6, 16.2, 14.5, 4.1, 15.8, 4.1, 2.4, 3.5, 8.5, 4.7, 18.4])\n",
        "\n",
        "def summary_statistics(data):\n",
        "    mean, median, mode, std, var = np.mean(data), np.median(data), stats.mode(data)[0], np.std(data), np.var(data)\n",
        "    print('-*-*-*-*-')\n",
        "    print(\"Summary Statistics\")\n",
        "    print('-*-*-*-*-')\n",
        "    print(f\"Median              : {median:.4f}\")\n",
        "    print(f\"Mean                : {mean:.4f}\")\n",
        "    print(f\"Mode                : {mode}\")\n",
        "    print(f\"Standard Deviation  : {std:.4f}\")\n",
        "    print(f\"Variance            : {var:.4f}\")\n",
        "\n",
        "print(\"Children\")\n",
        "summary_statistics(children)\n",
        "\n",
        "print(\"\\nAdults\")\n",
        "summary_statistics(adults)\n",
        "\n",
        "print('''\\n\\n The average deviation is higher for adults when compared to children, indicating that the mean is higher for this when compared to adults, according to the statistics summary.''')\n",
        "\n",
        "plt.figure(figsize = (14, 8))\n",
        "plt.boxplot([children, adults], positions = [1, 2], labels = ['Children', 'Adults'])\n",
        "plt.title('Child-Adult Boxplot')\n",
        "plt.show()\n",
        "\n",
        "print('''Also, when compared to adults, the box plot for children is small, indicating that there is a significant difference in sugar content between adults and children.''')\n",
        "\n",
        "\n",
        "print(\"-----------------------\")\n",
        "print(\"95% Confidence Interval for the difference in mean sugar content\")\n",
        "print(\"-----------------------\")\n",
        "child_95 = stats.norm.interval(0.95, np.mean(children), np.std(children))\n",
        "adult_95 = stats.norm.interval(0.95, np.mean(adults), np.std(adults))\n",
        "print(f\"Child:  {child_95}\")\n",
        "print(f\"Adult   :  {adult_95}\")\n",
        "\n",
        "print(\"\"\"\\n   95% confidence interval\n",
        "1) Sugar content for children with a mean ranges from 35.56 to 59.04.\n",
        "2) Adults' sugar content ranges between -4.23 and 24.57 \"\"\")\n"
      ]
    },
    {
      "cell_type": "markdown",
      "metadata": {
        "id": "BUoVdBIA9Glr"
      },
      "source": [
        "### Question 4 (15 points, with 10 extra point included) A/B Testing"
      ]
    },
    {
      "cell_type": "code",
      "source": [
        "import pandas as pd\n",
        "import warnings\n",
        "import numpy as np\n",
        "warnings.filterwarnings('ignore')\n",
        "from statistics import mean\n",
        "from datascience import Table,make_array\n",
        "from datascience.predicates import are\n",
        "import matplotlib.pyplot as plt\n",
        "\n",
        "dframe =pd.read_csv('/content/crime_rates.csv')\n",
        "print(dframe.head(5).to_string(index=False))"
      ],
      "metadata": {
        "colab": {
          "base_uri": "https://localhost:8080/"
        },
        "id": "8Ddalc6ExnbA",
        "outputId": "a41cb906-4244-4652-eebd-12d7d1e814b3"
      },
      "execution_count": null,
      "outputs": [
        {
          "output_type": "stream",
          "name": "stdout",
          "text": [
            " State  Year  Population  Violent Crime Rate  Murder Rate  Forcible Rape Rate  Robbery Rate  Aggraveted Assault Rate  Property Crime Rate  Burglary Rate  Larceny & Theft Rate  Motor Vehicle Theft Rate\n",
            "Alaska  1960      226167          104.300003         10.2           20.799999     28.299999                45.099998          1544.900024     332.100006            970.500000                242.300003\n",
            "Alaska  1961      234000           88.900002         11.5           13.200000     12.400000                51.700001          1540.599976     380.799988            950.000000                209.800003\n",
            "Alaska  1962      246000           91.500000          4.5           18.700001     13.800000                54.500000          1564.599976     351.600006            985.400024                227.600006\n",
            "Alaska  1963      248000          109.699997          6.5           14.900000     22.200001                66.099998          1952.800049     381.500000           1213.699951                357.700012\n",
            "Alaska  1964      250000          150.000000         10.4           22.400000     21.200001                96.000000          2016.000000     443.600006           1218.400024                354.000000\n"
          ]
        }
      ]
    },
    {
      "cell_type": "code",
      "source": [
        "murders =Table.from_df(df[['State','Year','Population','Murder Rate']])\n",
        "murders.show(5)\n",
        "\n"
      ],
      "metadata": {
        "id": "xeepERW_xo5V"
      },
      "execution_count": null,
      "outputs": []
    },
    {
      "cell_type": "code",
      "execution_count": null,
      "metadata": {
        "colab": {
          "base_uri": "https://localhost:8080/",
          "height": 392
        },
        "id": "VyEjsjkS9Glt",
        "outputId": "2e824f70-967e-4f72-882d-4e17832224c0"
      },
      "outputs": [
        {
          "output_type": "execute_result",
          "data": {
            "text/plain": [
              "State  | Year | Population | Murder Rate\n",
              "Alaska | 1960 | 226,167    | 10.2\n",
              "Alaska | 1961 | 234,000    | 11.5\n",
              "Alaska | 1962 | 246,000    | 4.5\n",
              "Alaska | 1963 | 248,000    | 6.5\n",
              "Alaska | 1964 | 250,000    | 10.4\n",
              "Alaska | 1965 | 253,000    | 6.3\n",
              "Alaska | 1966 | 272,000    | 12.9\n",
              "Alaska | 1967 | 272,000    | 9.6\n",
              "Alaska | 1968 | 277,000    | 10.5\n",
              "Alaska | 1969 | 282,000    | 10.6\n",
              "... (2190 rows omitted)"
            ],
            "text/html": [
              "<table border=\"1\" class=\"dataframe\">\n",
              "    <thead>\n",
              "        <tr>\n",
              "            <th>State</th> <th>Year</th> <th>Population</th> <th>Murder Rate</th>\n",
              "        </tr>\n",
              "    </thead>\n",
              "    <tbody>\n",
              "        <tr>\n",
              "            <td>Alaska</td> <td>1960</td> <td>226,167   </td> <td>10.2       </td>\n",
              "        </tr>\n",
              "        <tr>\n",
              "            <td>Alaska</td> <td>1961</td> <td>234,000   </td> <td>11.5       </td>\n",
              "        </tr>\n",
              "        <tr>\n",
              "            <td>Alaska</td> <td>1962</td> <td>246,000   </td> <td>4.5        </td>\n",
              "        </tr>\n",
              "        <tr>\n",
              "            <td>Alaska</td> <td>1963</td> <td>248,000   </td> <td>6.5        </td>\n",
              "        </tr>\n",
              "        <tr>\n",
              "            <td>Alaska</td> <td>1964</td> <td>250,000   </td> <td>10.4       </td>\n",
              "        </tr>\n",
              "        <tr>\n",
              "            <td>Alaska</td> <td>1965</td> <td>253,000   </td> <td>6.3        </td>\n",
              "        </tr>\n",
              "        <tr>\n",
              "            <td>Alaska</td> <td>1966</td> <td>272,000   </td> <td>12.9       </td>\n",
              "        </tr>\n",
              "        <tr>\n",
              "            <td>Alaska</td> <td>1967</td> <td>272,000   </td> <td>9.6        </td>\n",
              "        </tr>\n",
              "        <tr>\n",
              "            <td>Alaska</td> <td>1968</td> <td>277,000   </td> <td>10.5       </td>\n",
              "        </tr>\n",
              "        <tr>\n",
              "            <td>Alaska</td> <td>1969</td> <td>282,000   </td> <td>10.6       </td>\n",
              "        </tr>\n",
              "    </tbody>\n",
              "</table>\n",
              "<p>... (2190 rows omitted)</p>"
            ]
          },
          "metadata": {},
          "execution_count": 45
        }
      ],
      "source": [
        "# You answer here\n",
        "\n",
        "import numpy as np\n",
        "from datascience import *\n",
        "import matplotlib\n",
        "\n",
        "import matplotlib.pyplot as plt\n",
        "testsorder = make_array(5, 1, 3, 2, 4, 6)\n",
        "rates = Table.read_table('/content/crime_rates.csv').select('State', 'Year', 'Population', 'Murder Rate')\n",
        "rates.set_format(\"Population\", NumberFormatter)\n"
      ]
    },
    {
      "cell_type": "code",
      "source": [
        "alaska_minnesota = Table().with_columns(\"Year\", list(df['Year'].unique()),\n",
        "                             \"Murder rate in Alaska\",df['Murder Rate'].loc[df['State']=='Alaska'],\n",
        "                             \"Murder rate in Minnesota\",df['Murder Rate'].loc[df['State']=='Minnesota'])\n",
        "alaska_minnesota.show(5)"
      ],
      "metadata": {
        "colab": {
          "base_uri": "https://localhost:8080/",
          "height": 235
        },
        "id": "yh_DZf4Uzost",
        "outputId": "9ca347df-3d37-4541-dc90-22f7aa90194f"
      },
      "execution_count": null,
      "outputs": [
        {
          "output_type": "display_data",
          "data": {
            "text/plain": [
              "<IPython.core.display.HTML object>"
            ],
            "text/html": [
              "<table border=\"1\" class=\"dataframe\">\n",
              "    <thead>\n",
              "        <tr>\n",
              "            <th>Year</th> <th>Murder rate in Alaska</th> <th>Murder rate in Minnesota</th>\n",
              "        </tr>\n",
              "    </thead>\n",
              "    <tbody>\n",
              "        <tr>\n",
              "            <td>1960</td> <td>10.2                 </td> <td>1.2                     </td>\n",
              "        </tr>\n",
              "        <tr>\n",
              "            <td>1961</td> <td>11.5                 </td> <td>1                       </td>\n",
              "        </tr>\n",
              "        <tr>\n",
              "            <td>1962</td> <td>4.5                  </td> <td>0.9                     </td>\n",
              "        </tr>\n",
              "        <tr>\n",
              "            <td>1963</td> <td>6.5                  </td> <td>1.2                     </td>\n",
              "        </tr>\n",
              "        <tr>\n",
              "            <td>1964</td> <td>10.4                 </td> <td>1.4                     </td>\n",
              "        </tr>\n",
              "    </tbody>\n",
              "</table>\n",
              "<p>... (39 rows omitted)</p>"
            ]
          },
          "metadata": {}
        }
      ]
    },
    {
      "cell_type": "code",
      "execution_count": null,
      "metadata": {
        "colab": {
          "base_uri": "https://localhost:8080/",
          "height": 392
        },
        "id": "P_Sx8Zff9Glt",
        "outputId": "6145f683-f822-42fc-99e8-9a6539d82ec1"
      },
      "outputs": [
        {
          "output_type": "execute_result",
          "data": {
            "text/plain": [
              "Year | List of Murder rates in Alaska | List of Murder rates in Minnesota\n",
              "1960 | 10.2                           | 1.2\n",
              "1961 | 11.5                           | 1\n",
              "1962 | 4.5                            | 0.9\n",
              "1963 | 6.5                            | 1.2\n",
              "1964 | 10.4                           | 1.4\n",
              "1965 | 6.3                            | 1.4\n",
              "1966 | 12.9                           | 2.2\n",
              "1967 | 9.6                            | 1.6\n",
              "1968 | 10.5                           | 2.2\n",
              "1969 | 10.6                           | 1.9\n",
              "... (34 rows omitted)"
            ],
            "text/html": [
              "<table border=\"1\" class=\"dataframe\">\n",
              "    <thead>\n",
              "        <tr>\n",
              "            <th>Year</th> <th>List of Murder rates in Alaska</th> <th>List of Murder rates in Minnesota</th>\n",
              "        </tr>\n",
              "    </thead>\n",
              "    <tbody>\n",
              "        <tr>\n",
              "            <td>1960</td> <td>10.2                          </td> <td>1.2                              </td>\n",
              "        </tr>\n",
              "        <tr>\n",
              "            <td>1961</td> <td>11.5                          </td> <td>1                                </td>\n",
              "        </tr>\n",
              "        <tr>\n",
              "            <td>1962</td> <td>4.5                           </td> <td>0.9                              </td>\n",
              "        </tr>\n",
              "        <tr>\n",
              "            <td>1963</td> <td>6.5                           </td> <td>1.2                              </td>\n",
              "        </tr>\n",
              "        <tr>\n",
              "            <td>1964</td> <td>10.4                          </td> <td>1.4                              </td>\n",
              "        </tr>\n",
              "        <tr>\n",
              "            <td>1965</td> <td>6.3                           </td> <td>1.4                              </td>\n",
              "        </tr>\n",
              "        <tr>\n",
              "            <td>1966</td> <td>12.9                          </td> <td>2.2                              </td>\n",
              "        </tr>\n",
              "        <tr>\n",
              "            <td>1967</td> <td>9.6                           </td> <td>1.6                              </td>\n",
              "        </tr>\n",
              "        <tr>\n",
              "            <td>1968</td> <td>10.5                          </td> <td>2.2                              </td>\n",
              "        </tr>\n",
              "        <tr>\n",
              "            <td>1969</td> <td>10.6                          </td> <td>1.9                              </td>\n",
              "        </tr>\n",
              "    </tbody>\n",
              "</table>\n",
              "<p>... (34 rows omitted)</p>"
            ]
          },
          "metadata": {},
          "execution_count": 46
        }
      ],
      "source": [
        "# You code here\n",
        "\n",
        "alaska = rates.where('State', 'Alaska').drop('State', 'Population').relabeled(1, 'List of Murder rates in Alaska')\n",
        "minnesota = rates.where('State', 'Minnesota').drop('State', 'Population').relabeled(1, 'List of Murder rates in Minnesota')\n",
        "# Fill in this line to make a table like the one pictured above.\n",
        "alaska_minnesota = alaska.join(\"Year\", minnesota)\n",
        "alaska_minnesota"
      ]
    },
    {
      "cell_type": "code",
      "source": [
        "plt.figure(figsize=(10,10))\n",
        "plt.title('Murder Rates in Alaska and Minnesota Throughout the Years',fontsize=18)\n",
        "plt.plot(alaska_minnesota['Year'],alaska_minnesota['Murder rate in Alaska'],label='Alaska')\n",
        "plt.plot(alaska_minnesota['Year'],alaska_minnesota['Murder rate in Minnesota'],label='Minnesota')\n",
        "plt.xlabel('Year',fontsize=16)\n",
        "plt.ylabel('Murder Rate',fontsize=16)\n",
        "plt.legend()\n",
        "plt.grid()\n",
        "plt.show()"
      ],
      "metadata": {
        "colab": {
          "base_uri": "https://localhost:8080/",
          "height": 630
        },
        "id": "QIrkxUeezBxp",
        "outputId": "179541d0-134e-4b56-d33c-7269136c67cb"
      },
      "execution_count": null,
      "outputs": [
        {
          "output_type": "display_data",
          "data": {
            "text/plain": [
              "<Figure size 720x720 with 1 Axes>"
            ],
            "image/png": "[encoded data removed]"
          },
          "metadata": {
            "needs_background": "light"
          }
        }
      ]
    },
    {
      "cell_type": "code",
      "source": [
        "def IsDeathPenalty(state):\n",
        "  if state in noDeathPenaltyrates:\n",
        "    return False\n",
        "  else:\n",
        "    return True"
      ],
      "metadata": {
        "id": "PzMRlsFCzyku"
      },
      "execution_count": null,
      "outputs": []
    },
    {
      "cell_type": "code",
      "source": [
        "noDeathPenaltyrates = ['Alaska','Michigan','Minnesota','Hawaii']\n",
        "states = rates.group('State').select('State')\n",
        "deathPenalty = states.with_column('IsDeathPenalty?', states.apply(IsDeathPenalty, 0))\n",
        "deathPenalty"
      ],
      "metadata": {
        "colab": {
          "base_uri": "https://localhost:8080/",
          "height": 392
        },
        "id": "MAhj3spLz1iK",
        "outputId": "60c8fba0-11e0-404a-a0e7-0030c6a8fb59"
      },
      "execution_count": null,
      "outputs": [
        {
          "output_type": "execute_result",
          "data": {
            "text/plain": [
              "State       | IsDeathPenalty?\n",
              "Alabama     | True\n",
              "Alaska      | False\n",
              "Arizona     | True\n",
              "Arkansas    | True\n",
              "California  | True\n",
              "Colorado    | True\n",
              "Connecticut | True\n",
              "Delaware    | True\n",
              "Florida     | True\n",
              "Georgia     | True\n",
              "... (40 rows omitted)"
            ],
            "text/html": [
              "<table border=\"1\" class=\"dataframe\">\n",
              "    <thead>\n",
              "        <tr>\n",
              "            <th>State</th> <th>IsDeathPenalty?</th>\n",
              "        </tr>\n",
              "    </thead>\n",
              "    <tbody>\n",
              "        <tr>\n",
              "            <td>Alabama    </td> <td>True           </td>\n",
              "        </tr>\n",
              "        <tr>\n",
              "            <td>Alaska     </td> <td>False          </td>\n",
              "        </tr>\n",
              "        <tr>\n",
              "            <td>Arizona    </td> <td>True           </td>\n",
              "        </tr>\n",
              "        <tr>\n",
              "            <td>Arkansas   </td> <td>True           </td>\n",
              "        </tr>\n",
              "        <tr>\n",
              "            <td>California </td> <td>True           </td>\n",
              "        </tr>\n",
              "        <tr>\n",
              "            <td>Colorado   </td> <td>True           </td>\n",
              "        </tr>\n",
              "        <tr>\n",
              "            <td>Connecticut</td> <td>True           </td>\n",
              "        </tr>\n",
              "        <tr>\n",
              "            <td>Delaware   </td> <td>True           </td>\n",
              "        </tr>\n",
              "        <tr>\n",
              "            <td>Florida    </td> <td>True           </td>\n",
              "        </tr>\n",
              "        <tr>\n",
              "            <td>Georgia    </td> <td>True           </td>\n",
              "        </tr>\n",
              "    </tbody>\n",
              "</table>\n",
              "<p>... (40 rows omitted)</p>"
            ]
          },
          "metadata": {},
          "execution_count": 62
        }
      ]
    },
    {
      "cell_type": "code",
      "source": [
        ""
      ],
      "metadata": {
        "id": "5pXcbncx0FuL"
      },
      "execution_count": null,
      "outputs": []
    }
  ],
  "metadata": {
    "kernelspec": {
      "display_name": "Python 3",
      "language": "python",
      "name": "python3"
    },
    "language_info": {
      "codemirror_mode": {
        "name": "ipython",
        "version": 3
      },
      "file_extension": ".py",
      "mimetype": "text/x-python",
      "name": "python",
      "nbconvert_exporter": "python",
      "pygments_lexer": "ipython3",
      "version": "3.8.5"
    },
    "colab": {
      "name": "lab_assignment_09.ipynb",
      "provenance": [],
      "collapsed_sections": [],
      "include_colab_link": true
    }
  },
  "nbformat": 4,
  "nbformat_minor": 0
}