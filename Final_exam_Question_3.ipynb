{
  "cells": [
    {
      "cell_type": "markdown",
      "metadata": {
        "id": "view-in-github",
        "colab_type": "text"
      },
      "source": [
        "<a href=\"https://colab.research.google.com/github/purnasai1499/purnasai_INFO5502_Spring2022/blob/main/Final_exam_Question_3.ipynb\" target=\"_parent\"><img src=\"https://colab.research.google.com/assets/colab-badge.svg\" alt=\"Open In Colab\"/></a>"
      ]
    },
    {
      "cell_type": "markdown",
      "id": "f42f252b",
      "metadata": {
        "id": "f42f252b"
      },
      "source": [
        "<span style='background:yellow'>**Question 3 (100 pt, each sub-question is 10 pt).**</span> \n",
        "\n",
        "Part A: Given Inetd dataset, an intrusion detection dataset that contains 2 columns. The first column represents a process ID number (PID) and the second column represents a system call. The goal is to extract the entire system call sequence by its PID, then tokenize and parse each sequence into 25-grams. After this, we’ll split the data into training and testing sets. Next, we ensure data quality in the training dataset by removing duplicate sequences within each class and overlapped sequences between both classes. To ensure a fair evaluation, we also clean the testing set by repeating the previous step. You will implement a Decision Tree model to train and test on the training set and testing set that we just clean. \n",
        "\n",
        "\n",
        "Part B: As the data type is sequential, we want to know how similar the sequences from both classes are and visualize how the similarity scores vary in different sequence lengths. Compute a cosine similarity score of 100 random pairs from both classes and get a median cosine similarity. Repeat this step in different sequence lengths (5, 10, 15, and 20). Plot a line chart to visualize how the median cosine similarities vary through sequence lengths of 5 to 25. \n",
        "\n",
        "You can download the datasets from github: https://github.com/unt-iialab/info5502-spring2022/tree/main/finalexam/q4\n",
        "\n",
        "\n",
        "Step by step instructions and questions:\n",
        "\n",
        "(1) Attached are the Normal and Intrusion data folders. Read in the data and store them in two separate dataframes. Combine the system calls (the second column) from the same PID (the first column) into a sequence or a string. \n",
        "\n",
        "(2) Parse an entire sequence into smaller sequences of size 25. (Hint: Use word_tokenize and ngrams from nltk library to parse).\n",
        "\n",
        "(3) Add labels to the data, and partition the labeled data into training data and testing data with a ratio of 70/30.\n",
        "\n",
        "(4) As the dataset has a lot of duplicate sequences, make sure that the testing data only contain unique sequences and that these sequences do not exist in the training data. Condense training data and testing data into two sets. Take the difference between the testing set and training set to remove the overlapped sequences from the testing data. \n",
        "\n",
        "(5) The sequences from each class can be repetitive, and some of these sequences may have different labels. Therefore, we need to remove the duplicate sequences within each class and the overlapped sequences from the Intrusion class. Start out by separating the Normal class and Intrusion class in the training data. Use the same concept in Question 4 to remove duplicate sequences and overlapped sequences from the training data.\n",
        "\n",
        "(6) Repeat Question 5 to clean the testing data.\n",
        "\n",
        "(7) Bootstrap the training data to get the same number of sequences from each class. Train and evaluate a Decision Tree model using the training data and testing data that we just clean. How is the performance?\n",
        "\n",
        "(8) Randomly sample 100 pairs of sequences from both classes and calculate the median cosine similarity.\n",
        "\n",
        "(9) Refer back to Question 2, parse the data into a length of 5, 10, 15, and 20. Clean the data from each class using Question 5. For each sequence length, calculate the median cosine similarity of 100 random pairs of sequences from both classes. \n",
        "\n",
        "(10) Plot a line chart to visualize how the median cosine similarities vary through different sequence lengths from 5 to 25.\n"
      ]
    },
    {
      "cell_type": "code",
      "execution_count": null,
      "id": "5f20d853",
      "metadata": {
        "colab": {
          "base_uri": "https://localhost:8080/"
        },
        "id": "5f20d853",
        "outputId": "30e9ca9b-85b5-4e3a-90f3-f9ea6dabecd0"
      },
      "outputs": [
        {
          "output_type": "stream",
          "name": "stdout",
          "text": [
            "   PID  SystemCalls\n",
            "0  167           90\n",
            "1  167          125\n",
            "\n",
            "   PID  SystemCalls\n",
            "0  167           90\n",
            "1  167          125\n"
          ]
        }
      ],
      "source": [
        "#### You code here\n",
        "\n",
        "import pandas as pd\n",
        "import numpy as np\n",
        "\n",
        "# load data from git\n",
        "input = pd.read_csv(\"https://raw.githubusercontent.com/unt-iialab/info5502-spring2022/main/finalexam/q4/inetd-intrusion.int\", sep = \" \", header = None)\n",
        "normal_input = pd.read_csv(\"https://raw.githubusercontent.com/unt-iialab/info5502-spring2022/main/finalexam/q4/inetd-normal.int\", sep = \" \", header = None)\n",
        "\n",
        "input.columns = ['PID', 'SystemCalls']\n",
        "\n",
        "normal_input.columns = ['PID', 'SystemCalls']\n",
        "\n",
        "print(input.head(2))\n",
        "\n",
        "print()\n",
        "\n",
        "print(normal_input.head(2))\n"
      ]
    },
    {
      "cell_type": "code",
      "execution_count": null,
      "id": "8a61c7eb",
      "metadata": {
        "colab": {
          "base_uri": "https://localhost:8080/"
        },
        "id": "8a61c7eb",
        "outputId": "b865dbf9-bee7-4b45-d2f4-fcb6b3a21d8c"
      },
      "outputs": [
        {
          "output_type": "stream",
          "name": "stdout",
          "text": [
            "(8371, 2)\n",
            "(541, 2)\n"
          ]
        }
      ],
      "source": [
        "print(input.shape)\n",
        "\n",
        "print(normal_input.shape)"
      ]
    },
    {
      "cell_type": "code",
      "execution_count": null,
      "id": "1577b114",
      "metadata": {
        "colab": {
          "base_uri": "https://localhost:8080/",
          "height": 35
        },
        "id": "1577b114",
        "outputId": "d30c6235-0bd1-4fd2-8622-ed98e99d8855"
      },
      "outputs": [
        {
          "output_type": "execute_result",
          "data": {
            "text/plain": [
              "'90 125 125 106 5 90 6 5 3 90 90 90 90 6 125 91 125 125 125 136 49 24 47 50 45 45 5 106 106 106 106 106 2 1'"
            ],
            "application/vnd.google.colaboratory.intrinsic+json": {
              "type": "string"
            }
          },
          "metadata": {},
          "execution_count": 22
        }
      ],
      "source": [
        "intrusion_dict = {}\n",
        "normal_dict = {}\n",
        "\n",
        "for pid in list(set(input['PID'].values)):\n",
        "\n",
        "    intrusion_dict[pid] = \" \".join(str(value) for value in list(input[input['PID'] == pid]['SystemCalls'].values))\n",
        "\n",
        "for pid in list(set(normal_input['PID'].values)):\n",
        "  \n",
        "    normal_dict[pid] = \" \".join(str(value) for value in list(normal_input[normal_input['PID'] == pid]['SystemCalls'].values))\n",
        "\n",
        "intrusion_dict[167]"
      ]
    },
    {
      "cell_type": "code",
      "execution_count": null,
      "id": "6973ca24",
      "metadata": {
        "colab": {
          "base_uri": "https://localhost:8080/"
        },
        "id": "6973ca24",
        "outputId": "8af96a00-70ad-4371-a31d-b46dcd9c6ffb"
      },
      "outputs": [
        {
          "output_type": "stream",
          "name": "stdout",
          "text": [
            "7627\n",
            "469\n"
          ]
        }
      ],
      "source": [
        "\n",
        "# generating ngrams with sequence length of 25\n",
        "\n",
        "import re\n",
        "from nltk.util import ngrams\n",
        "intrusion_list = []\n",
        "normal_list = []\n",
        "\n",
        "\n",
        "for key in intrusion_dict.keys():\n",
        "\n",
        "    s = intrusion_dict[key]\n",
        "\n",
        "    tokens = [token for token in s.split(\" \") if token != \"\"]\n",
        "    \n",
        "    for ele in list(ngrams(tokens, 25)):\n",
        "\n",
        "        intrusion_list.append(ele)\n",
        "        \n",
        "for key in normal_dict.keys():\n",
        "\n",
        "    s = normal_dict[key]\n",
        "\n",
        "    tokens = [token for token in s.split(\" \") if token != \"\"]\n",
        "    \n",
        "    for ele in list(ngrams(tokens, 25)):\n",
        "\n",
        "        normal_list.append(ele) \n",
        "\n",
        "print(len(intrusion_list))\n",
        "\n",
        "print(len(normal_list))"
      ]
    },
    {
      "cell_type": "code",
      "execution_count": null,
      "id": "b962057a",
      "metadata": {
        "colab": {
          "base_uri": "https://localhost:8080/"
        },
        "id": "b962057a",
        "outputId": "7990176a-0bc7-44ef-ba6c-2f4b889be3bb"
      },
      "outputs": [
        {
          "output_type": "stream",
          "name": "stdout",
          "text": [
            "(7627, 26)\n",
            "(469, 26)\n"
          ]
        }
      ],
      "source": [
        "# adding labels to intrusion and normal data sequences\n",
        "\n",
        "intrusion_df = pd.DataFrame(intrusion_list)\n",
        "\n",
        "normal_df = pd.DataFrame(normal_list)\n",
        "\n",
        "intrusion_df['class'] = 1\n",
        "normal_df['class'] = 0\n",
        "\n",
        "print(intrusion_df.shape)\n",
        "\n",
        "print(normal_df.shape)"
      ]
    },
    {
      "cell_type": "code",
      "execution_count": null,
      "id": "07983f99",
      "metadata": {
        "colab": {
          "base_uri": "https://localhost:8080/"
        },
        "id": "07983f99",
        "outputId": "df8dba83-c6c1-4090-ecb3-24b44e5708b3"
      },
      "outputs": [
        {
          "output_type": "stream",
          "name": "stdout",
          "text": [
            "(8096, 26)\n"
          ]
        }
      ],
      "source": [
        "# combining intrusion and normal data frames \n",
        "\n",
        "combined_df = pd.DataFrame()\n",
        "\n",
        "combined_df = combined_df.append(intrusion_df)\n",
        "\n",
        "combined_df = combined_df.append(normal_df)\n",
        "\n",
        "print(combined_df.shape)"
      ]
    },
    {
      "cell_type": "code",
      "execution_count": null,
      "id": "4f09bbfb",
      "metadata": {
        "colab": {
          "base_uri": "https://localhost:8080/"
        },
        "id": "4f09bbfb",
        "outputId": "45c665e8-bb58-40ac-d6c3-164d901e9141"
      },
      "outputs": [
        {
          "output_type": "execute_result",
          "data": {
            "text/plain": [
              "(333, 26)"
            ]
          },
          "metadata": {},
          "execution_count": 26
        }
      ],
      "source": [
        "# drop the duplicates...\n",
        "combined_df = combined_df.drop_duplicates(subset = combined_df.columns[:-1], keep = 'last')\n",
        "\n",
        "combined_df.shape"
      ]
    },
    {
      "cell_type": "code",
      "execution_count": null,
      "id": "f46f9e88",
      "metadata": {
        "colab": {
          "base_uri": "https://localhost:8080/"
        },
        "id": "f46f9e88",
        "outputId": "c57ecf33-abfc-4bb6-e30a-bb0e2f2fbba5"
      },
      "outputs": [
        {
          "output_type": "execute_result",
          "data": {
            "text/plain": [
              "1    177\n",
              "0    156\n",
              "Name: class, dtype: int64"
            ]
          },
          "metadata": {},
          "execution_count": 27
        }
      ],
      "source": [
        "combined_df['class'].value_counts()"
      ]
    },
    {
      "cell_type": "code",
      "execution_count": null,
      "id": "1ffbfe89",
      "metadata": {
        "colab": {
          "base_uri": "https://localhost:8080/"
        },
        "id": "1ffbfe89",
        "outputId": "dced620d-7fcc-430c-a395-03fc80c8a29d"
      },
      "outputs": [
        {
          "output_type": "execute_result",
          "data": {
            "text/plain": [
              "Index([ 0,  1,  2,  3,  4,  5,  6,  7,  8,  9, 10, 11, 12, 13, 14, 15, 16, 17,\n",
              "       18, 19, 20, 21, 22, 23, 24],\n",
              "      dtype='object')"
            ]
          },
          "metadata": {},
          "execution_count": 28
        }
      ],
      "source": [
        "combined_df.columns[:-1]"
      ]
    },
    {
      "cell_type": "code",
      "execution_count": null,
      "id": "3065143a",
      "metadata": {
        "colab": {
          "base_uri": "https://localhost:8080/"
        },
        "id": "3065143a",
        "outputId": "354fa8a1-ec0d-4673-9e15-f5367299ec18"
      },
      "outputs": [
        {
          "output_type": "stream",
          "name": "stdout",
          "text": [
            "              precision    recall  f1-score   support\n",
            "\n",
            "           0       0.78      0.82      0.80        22\n",
            "           1       0.91      0.89      0.90        45\n",
            "\n",
            "    accuracy                           0.87        67\n",
            "   macro avg       0.85      0.85      0.85        67\n",
            "weighted avg       0.87      0.87      0.87        67\n",
            "\n"
          ]
        }
      ],
      "source": [
        "# building a decision tree classifier\n",
        "from sklearn.tree import DecisionTreeClassifier\n",
        "from sklearn import preprocessing\n",
        "from sklearn.metrics import classification_report\n",
        "from sklearn.model_selection import train_test_split\n",
        "\n",
        "X = combined_df.drop(\"class\", axis = 1)\n",
        "\n",
        "y = combined_df['class']\n",
        "\n",
        "X_train, X_valid, y_train, y_valid = train_test_split(X, y, test_size = 0.2, random_state = 0)\n",
        "\n",
        "dtclassifier = DecisionTreeClassifier(max_depth = 10)\n",
        "\n",
        "dtclassifier.fit(X_train, y_train)\n",
        "\n",
        "y_pred = dtclassifier.predict(X_valid)\n",
        "\n",
        "print(classification_report(y_valid, y_pred))\n"
      ]
    },
    {
      "cell_type": "markdown",
      "id": "6dbdd51a",
      "metadata": {
        "id": "6dbdd51a"
      },
      "source": [
        "# Similarity scores for NGram range of 5 to 25"
      ]
    },
    {
      "cell_type": "code",
      "execution_count": null,
      "id": "0cf89814",
      "metadata": {
        "colab": {
          "base_uri": "https://localhost:8080/"
        },
        "id": "0cf89814",
        "outputId": "d8e287eb-367f-4d60-c390-8d21aa950ac7"
      },
      "outputs": [
        {
          "output_type": "stream",
          "name": "stdout",
          "text": [
            "(8776, 6)\n",
            "\n",
            "(168, 6)\n",
            "\n",
            "0.7975255578347085\n",
            "\n",
            "(8606, 11)\n",
            "\n",
            "(213, 11)\n",
            "\n",
            "0.7298318590284769\n",
            "\n",
            "(8436, 16)\n",
            "\n",
            "(254, 16)\n",
            "\n",
            "0.7386058535915241\n",
            "\n",
            "(8266, 21)\n",
            "\n",
            "(293, 21)\n",
            "\n",
            "0.724519707252115\n",
            "\n",
            "(8096, 26)\n",
            "\n",
            "(333, 26)\n",
            "\n",
            "0.7165538213464431\n",
            "\n"
          ]
        }
      ],
      "source": [
        "import re\n",
        "from nltk.util import ngrams\n",
        "import pandas as pd\n",
        "\n",
        "cosine_similar_ngram = {}\n",
        "\n",
        "for ngram in range(5, 26, 5):\n",
        "\n",
        "    intrusion_data = pd.read_csv(\"https://raw.githubusercontent.com/unt-iialab/info5502-spring2022/main/finalexam/q4/inetd-intrusion.int\", sep = \" \", header = None)\n",
        "    \n",
        "    normal_data = pd.read_csv(\"https://raw.githubusercontent.com/unt-iialab/info5502-spring2022/main/finalexam/q4/inetd-normal.int\", sep = \" \", header = None)\n",
        "\n",
        "    intrusion_data.columns = ['PID', 'SystemCalls']\n",
        "    \n",
        "    normal_data.columns = ['PID', 'SystemCalls']\n",
        "\n",
        "    intrusion_dict = {}\n",
        "    \n",
        "    normal_dict = {}\n",
        "\n",
        "    for pid in list(set(intrusion_data['PID'].values)):\n",
        "      \n",
        "        intrusion_dict[pid] = \" \".join(str(value) for value in list(intrusion_data[intrusion_data['PID'] == pid]['SystemCalls'].values))\n",
        "\n",
        "    for pid in list(set(normal_data['PID'].values)):\n",
        "      \n",
        "        normal_dict[pid] = \" \".join(str(value) for value in list(normal_data[normal_data['PID'] == pid]['SystemCalls'].values))\n",
        "\n",
        "    intrusion_list = []\n",
        "    \n",
        "    normal_list = []\n",
        "    \n",
        "    for key in intrusion_dict.keys():\n",
        "    \n",
        "        s = intrusion_dict[key]\n",
        "    \n",
        "        tokens = [token for token in s.split(\" \") if token != \"\"]\n",
        "\n",
        "        for ele in list(ngrams(tokens, ngram)):\n",
        "            \n",
        "            intrusion_list.append(ele)\n",
        "\n",
        "    \n",
        "    for key in normal_dict.keys():\n",
        "       \n",
        "        s = normal_dict[key]\n",
        "       \n",
        "        tokens = [token for token in s.split(\" \") if token != \"\"]\n",
        "\n",
        "        for ele in list(ngrams(tokens, ngram)):\n",
        "       \n",
        "            normal_list.append(ele)\n",
        "\n",
        "    \n",
        "    intrusion_df = pd.DataFrame(intrusion_list)\n",
        "    \n",
        "    normal_df = pd.DataFrame(normal_list)\n",
        "\n",
        "    \n",
        "    intrusion_df['class'] = 1\n",
        "    \n",
        "    normal_df['class'] = 0\n",
        "\n",
        "    combined_df = pd.DataFrame()\n",
        "\n",
        "    combined_df = combined_df.append(intrusion_df)\n",
        "    \n",
        "    combined_df = combined_df.append(normal_df)\n",
        "\n",
        "    print(combined_df.shape)\n",
        "   \n",
        "    print()\n",
        "\n",
        "\n",
        "    combined_df = combined_df.drop_duplicates(subset = combined_df.columns[:-1], keep = 'last')\n",
        "    \n",
        "    print(combined_df.shape)\n",
        "\n",
        "    print()\n",
        "\n",
        "    from sklearn.metrics.pairwise import cosine_similarity\n",
        "    \n",
        "    import statistics\n",
        "\n",
        "    similarities_list = []\n",
        "    \n",
        "    for i in range(0, 100):\n",
        "        \n",
        "        list1 = list(combined_df[combined_df['class'] == 0].sample(n = 1).iloc[0, :].values)\n",
        "        list2 = list(combined_df[combined_df['class'] == 1].sample(n = 1).iloc[0, :].values)\n",
        "       \n",
        "        try:\n",
        "            similarities_list.append(cosine_similarity([list1], [list2]))\n",
        "        \n",
        "        except Exception as e:\n",
        "           \n",
        "            print(e)\n",
        "           \n",
        "            print(list1, list2)\n",
        "\n",
        "    print(statistics.median(similarities_list)[0][0])\n",
        "    \n",
        "    print()\n",
        "    \n",
        "    cosine_similar_ngram[ngram] = statistics.median(similarities_list)[0][0]\n",
        "    "
      ]
    },
    {
      "cell_type": "code",
      "execution_count": null,
      "id": "6d67292f",
      "metadata": {
        "colab": {
          "base_uri": "https://localhost:8080/",
          "height": 471
        },
        "id": "6d67292f",
        "outputId": "121953c0-d52d-46cc-c932-4060d5bb9401"
      },
      "outputs": [
        {
          "output_type": "display_data",
          "data": {
            "text/plain": [
              "<Figure size 720x504 with 1 Axes>"
            ],
            "image/png": "[encoded data removed]"
          },
          "metadata": {
            "needs_background": "light"
          }
        }
      ],
      "source": [
        "import matplotlib.pyplot as plt\n",
        "import seaborn as sns\n",
        "\n",
        "cosine_similar_ngram_df = pd.DataFrame({\"Ngram\":list(cosine_similar_ngram.keys()), \"Similarity_scores\": list(cosine_similar_ngram.values())})\n",
        "\n",
        "\n",
        "plt.rcParams['figure.figsize'] = [10, 7]\n",
        "\n",
        "# we iterate through each ngram range class and plot the line chart\n",
        "sns.lineplot(x = \"Ngram\", y = \"Similarity_scores\", data = cosine_similar_ngram_df)\n",
        "    \n",
        "plt.title(\"Line chart of cosine similarity scores\")\n",
        "\n",
        "plt.xlabel(\"Ngram\")\n",
        "\n",
        "plt.ylabel(\"Cosine similarity scores\")\n",
        "\n",
        "plt.xticks(rotation = 90)\n",
        "\n",
        "plt.show()"
      ]
    },
    {
      "cell_type": "code",
      "execution_count": null,
      "id": "7904d482",
      "metadata": {
        "id": "7904d482"
      },
      "outputs": [],
      "source": [
        ""
      ]
    }
  ],
  "metadata": {
    "kernelspec": {
      "display_name": "Python 3 (ipykernel)",
      "language": "python",
      "name": "python3"
    },
    "language_info": {
      "codemirror_mode": {
        "name": "ipython",
        "version": 3
      },
      "file_extension": ".py",
      "mimetype": "text/x-python",
      "name": "python",
      "nbconvert_exporter": "python",
      "pygments_lexer": "ipython3",
      "version": "3.9.7"
    },
    "colab": {
      "name": "Final_exam_Question_3.ipynb",
      "provenance": [],
      "include_colab_link": true
    }
  },
  "nbformat": 4,
  "nbformat_minor": 5
}